{
 "cells": [
  {
   "cell_type": "markdown",
   "metadata": {},
   "source": [
    "# Module 12 Challenge\n",
    "## Deliverable 1: Scrape Titles and Preview Text from Mars News"
   ]
  },
  {
   "cell_type": "code",
   "execution_count": 8,
   "metadata": {},
   "outputs": [],
   "source": [
    "# Import Splinter and BeautifulSoup\n",
    "from splinter import Browser\n",
    "from bs4 import BeautifulSoup as bs\n",
    "from webdriver_manager.chrome import ChromeDriverManager"
   ]
  },
  {
   "cell_type": "code",
   "execution_count": 9,
   "metadata": {
    "scrolled": true
   },
   "outputs": [],
   "source": [
    "executable_path = {'executable_path': ChromeDriverManager().install()}\n",
    "browser = Browser('chrome', **executable_path, headless=False)"
   ]
  },
  {
   "cell_type": "markdown",
   "metadata": {},
   "source": [
    "### Step 1: Visit the Website\n",
    "\n",
    "1. Use automated browsing to visit the [Mars NASA news site](https://redplanetscience.com). Inspect the page to identify which elements to scrape.\n",
    "\n",
    "      > **Hint** To identify which elements to scrape, you might want to inspect the page by using Chrome DevTools."
   ]
  },
  {
   "cell_type": "code",
   "execution_count": 10,
   "metadata": {},
   "outputs": [],
   "source": [
    "# Visit the Mars NASA news site: https://redplanetscience.com\n",
    "scrape_results= {}\n",
    "url = 'https://redplanetscience.com/'\n",
    "browser.visit(url)\n",
    "news_html=browser.html\n",
    "soup=bs(news_html,'html.parser')"
   ]
  },
  {
   "cell_type": "markdown",
   "metadata": {},
   "source": [
    "### Step 2: Scrape the Website\n",
    "\n",
    "Create a Beautiful Soup object and use it to extract text elements from the website."
   ]
  },
  {
   "cell_type": "code",
   "execution_count": 12,
   "metadata": {},
   "outputs": [
    {
     "data": {
      "text/plain": [
       "15"
      ]
     },
     "execution_count": 12,
     "metadata": {},
     "output_type": "execute_result"
    }
   ],
   "source": [
    "# Create a Beautiful Soup object\n",
    "results=soup.find_all('div', class_='list_text')\n",
    "len(results)"
   ]
  },
  {
   "cell_type": "code",
   "execution_count": 15,
   "metadata": {},
   "outputs": [
    {
     "name": "stdout",
     "output_type": "stream",
     "text": [
      "Title:NASA Invites Public to Share Excitement of Mars 2020 Perseverance Rover Launch\n",
      "Preview: There are lots of ways to participate in the historic event, which is targeted for July 30.\n",
      "Title:NASA Mars Mission Connects With Bosnian and Herzegovinian Town\n",
      "Preview: A letter from NASA was presented to the mayor of Jezero, Bosnia-Herzegovina, honoring the connection between the town and Jezero Crater, the Mars 2020 rover landing site.\n",
      "Title:NASA Invites Students to Name Mars 2020 Rover\n",
      "Preview: Through Nov. 1, K-12 students in the U.S. are encouraged to enter an essay contest to name NASA's next Mars rover.\n",
      "Title:Mars Helicopter Attached to NASA's Perseverance Rover\n",
      "Preview: The team also fueled the rover's sky crane to get ready for this summer's history-making launch.\n",
      "Title:Newfound Martian Aurora Actually the Most Common; Sheds Light on Mars' Changing Climate\n",
      "Preview: A type of Martian aurora first identified by NASA’s MAVEN spacecraft in 2016 is actually the most common form of aurora occurring on the Red Planet, according to new results from the mission.\n",
      "Title:AI Is Helping Scientists Discover Fresh Craters on Mars\n",
      "Preview: It's the first time machine learning has been used to find previously unknown craters on the Red Planet.\n",
      "Title:The MarCO Mission Comes to an End\n",
      "Preview: The pair of briefcase-sized satellites made history when they sailed past Mars in 2019.\n",
      "Title:NASA's Mars 2020 Rover Goes Coast-to-Coast to Prep for Launch\n",
      "Preview: The agency's first step in returning rocks from Mars just arrived at Kennedy Space Center. The Mars 2020 team now begins readying for a launch to the Red Planet this July.\n",
      "Title:NASA Perseverance Mars Rover Scientists Train in the Nevada Desert\n",
      "Preview: Team members searched for signs of ancient microscopic life there, just as NASA's latest rover will on the Red Planet next year.\n",
      "Title:NASA's Curiosity Mars Rover Takes a New Selfie Before Record Climb\n",
      "Preview: Along with capturing an image before its steepest ascent ever, the robotic explorer filmed its \"selfie stick,\" or robotic arm, in action.\n",
      "Title:How NASA's Mars Helicopter Will Reach the Red Planet's Surface\n",
      "Preview: The small craft will seek to prove that powered, controlled flight is possible on another planet. But just getting it onto the surface of Mars will take a whole lot of ingenuity.\n",
      "Title:InSight's 'Mole' Team Peers into the Pit\n",
      "Preview: Efforts to save the heat probe continue.\n",
      "Title:NASA's Mars 2020 Rover Closer to Getting Its Name\n",
      "Preview: 155 students from across the U.S. have been chosen as semifinalists in NASA's essay contest to name the Mars 2020 rover, and see it launch from Cape Canaveral this July.\n",
      "Title:NASA's Perseverance Rover 100 Days Out\n",
      "Preview: Mark your calendars: The agency's latest rover has only about 8,640,000 seconds to go before it touches down on the Red Planet, becoming history's next Mars car.\n",
      "Title:NASA's Perseverance Rover Will Look at Mars Through These 'Eyes'\n",
      "Preview: A pair of zoomable cameras will help scientists and rover drivers with high-resolution color images.\n"
     ]
    }
   ],
   "source": [
    "# Extract all the text elements\n",
    "for result in results:\n",
    "    news_title=result.find('div', class_='content_title').text\n",
    "    news_p=result.find('div', class_=\"article_teaser_body\").text\n",
    "\n",
    "    print(f'Title:{news_title}')\n",
    "    print(f'Preview: {news_p}')"
   ]
  },
  {
   "cell_type": "markdown",
   "metadata": {},
   "source": [
    "### Step 3: Store the Results\n",
    "\n",
    "Extract the titles and preview text of the news articles that you scraped. Store the scraping results in Python data structures as follows:\n",
    "\n",
    "* Store each title-and-preview pair in a Python dictionary. And, give each dictionary two keys: `title` and `preview`. An example is the following:\n",
    "\n",
    "  ```python\n",
    "  {'title': \"Mars Rover Begins Mission!\", \n",
    "        'preview': \"NASA's Mars Rover begins a multiyear mission to collect data about the little-explored planet.\"}\n",
    "  ```\n",
    "\n",
    "* Store all the dictionaries in a Python list.\n",
    "\n",
    "* Print the list in your notebook."
   ]
  },
  {
   "cell_type": "code",
   "execution_count": 16,
   "metadata": {},
   "outputs": [
    {
     "data": {
      "text/plain": [
       "{'Title': \"NASA's Perseverance Rover Will Look at Mars Through These 'Eyes'\",\n",
       " 'Preview': 'A pair of zoomable cameras will help scientists and rover drivers with high-resolution color images.'}"
      ]
     },
     "execution_count": 16,
     "metadata": {},
     "output_type": "execute_result"
    }
   ],
   "source": [
    "# Create an empty list to store the dictionaries\n",
    "Nasa_News = {\"Title\":news_title, \"Preview\": news_p}\n",
    "Nasa_News"
   ]
  },
  {
   "cell_type": "code",
   "execution_count": 17,
   "metadata": {},
   "outputs": [
    {
     "data": {
      "text/plain": [
       "{'Title': \"NASA's Perseverance Rover Will Look at Mars Through These 'Eyes'\",\n",
       " 'Preview': 'A pair of zoomable cameras will help scientists and rover drivers with high-resolution color images.'}"
      ]
     },
     "execution_count": 17,
     "metadata": {},
     "output_type": "execute_result"
    }
   ],
   "source": [
    "# Loop through the text elements\n",
    "# Extract the title and preview text from the elements\n",
    "# Store each title and preview pair in a dictionary\n",
    "# Add the dictionary to the list\n",
    "scrape_results['Title']=news_title\n",
    "scrape_results['Preview']=news_p\n",
    "\n",
    "scrape_results\n",
    "\n"
   ]
  },
  {
   "cell_type": "code",
   "execution_count": null,
   "metadata": {},
   "outputs": [],
   "source": [
    "browser.quit()"
   ]
  },
  {
   "cell_type": "markdown",
   "metadata": {},
   "source": [
    "### (Optional) Step 4: Export the Data\n",
    "\n",
    "Optionally, store the scraped data in a file or database (to ease sharing the data with others). To do so, export the scraped data to either a JSON file or a MongoDB database."
   ]
  },
  {
   "cell_type": "code",
   "execution_count": null,
   "metadata": {},
   "outputs": [],
   "source": [
    "# Export data to JSON\n"
   ]
  },
  {
   "cell_type": "code",
   "execution_count": null,
   "metadata": {},
   "outputs": [],
   "source": [
    "# Export data to MongoDB\n"
   ]
  }
 ],
 "metadata": {
  "kernelspec": {
   "display_name": "base",
   "language": "python",
   "name": "python3"
  },
  "language_info": {
   "codemirror_mode": {
    "name": "ipython",
    "version": 3
   },
   "file_extension": ".py",
   "mimetype": "text/x-python",
   "name": "python",
   "nbconvert_exporter": "python",
   "pygments_lexer": "ipython3",
   "version": "3.9.12"
  },
  "vscode": {
   "interpreter": {
    "hash": "a19d4256769a5a8eece1c5afdd0acbcaab09bcfd03f3555519de6b67b43128b9"
   }
  }
 },
 "nbformat": 4,
 "nbformat_minor": 4
}
